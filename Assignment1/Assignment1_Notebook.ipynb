{
 "cells": [
  {
   "cell_type": "markdown",
   "id": "c6e4f51b-fb5f-4261-9fe0-76d98b7a1941",
   "metadata": {},
   "source": [
    "### Exercise 1"
   ]
  },
  {
   "cell_type": "code",
   "execution_count": 4,
   "id": "6a9518c8-9a27-4a7e-82a9-cebb878efc8a",
   "metadata": {
    "scrolled": true
   },
   "outputs": [],
   "source": [
    "import cobra\n",
    "from cobra import Model, Reaction, Metabolite\n",
    "model = cobra.io.load_json_model('e_coli_core.json')\n",
    "model\n",
    "\n",
    "import csv\n",
    "activities = {}\n",
    "with open('e_coli_core_expression.csv', mode='r', newline='') as file:\n",
    "    reader = csv.reader(file)\n",
    "    next(reader)\n",
    "    for row in reader:\n",
    "        activities[row[0].strip()] = float(row[1].strip())"
   ]
  },
  {
   "cell_type": "markdown",
   "id": "eb7b3bb5-cb68-42af-8a0e-8323102dec99",
   "metadata": {},
   "source": [
    "1/a: Upon inspecting the Escher map, we can see that contrary to flux, maximum activity is not equal along a linear path. This makes sense since the maximum activity is dependent on the individual capacities of each enzyme. These are inherent characteristics of the enzymes and are not constrained by mass balance."
   ]
  },
  {
   "cell_type": "markdown",
   "id": "ec558457-0302-490f-b4bf-f93f72bc910c",
   "metadata": {},
   "source": [
    "1/b: Let's look at 2 such reactions."
   ]
  },
  {
   "cell_type": "code",
   "execution_count": 5,
   "id": "b87dd334-c2af-44d7-ba61-129befe80182",
   "metadata": {},
   "outputs": [
    {
     "data": {
      "text/html": [
       "\n",
       "        <table>\n",
       "            <tr>\n",
       "                <td><strong>Reaction identifier</strong></td><td>EX_glc__D_e</td>\n",
       "            </tr><tr>\n",
       "                <td><strong>Name</strong></td><td>D-Glucose exchange</td>\n",
       "            </tr><tr>\n",
       "                <td><strong>Memory address</strong></td>\n",
       "                <td>0x30b8e3410</td>\n",
       "            </tr><tr>\n",
       "                <td><strong>Stoichiometry</strong></td>\n",
       "                <td>\n",
       "                    <p style='text-align:right'>glc__D_e <=></p>\n",
       "                    <p style='text-align:right'>D-Glucose <=></p>\n",
       "                </td>\n",
       "            </tr><tr>\n",
       "                <td><strong>GPR</strong></td><td></td>\n",
       "            </tr><tr>\n",
       "                <td><strong>Lower bound</strong></td><td>-10.0</td>\n",
       "            </tr><tr>\n",
       "                <td><strong>Upper bound</strong></td><td>1000.0</td>\n",
       "            </tr>\n",
       "        </table>\n",
       "        "
      ],
      "text/plain": [
       "<Reaction EX_glc__D_e at 0x30b8e3410>"
      ]
     },
     "execution_count": 5,
     "metadata": {},
     "output_type": "execute_result"
    }
   ],
   "source": [
    "model.reactions.get_by_id(\"EX_glc__D_e\")"
   ]
  },
  {
   "cell_type": "code",
   "execution_count": 6,
   "id": "c814c824-e3a0-4095-b025-0b9e4a67f044",
   "metadata": {},
   "outputs": [
    {
     "data": {
      "text/html": [
       "\n",
       "        <table>\n",
       "            <tr>\n",
       "                <td><strong>Reaction identifier</strong></td><td>BIOMASS_Ecoli_core_w_GAM</td>\n",
       "            </tr><tr>\n",
       "                <td><strong>Name</strong></td><td>Biomass Objective Function with GAM</td>\n",
       "            </tr><tr>\n",
       "                <td><strong>Memory address</strong></td>\n",
       "                <td>0x30b840cb0</td>\n",
       "            </tr><tr>\n",
       "                <td><strong>Stoichiometry</strong></td>\n",
       "                <td>\n",
       "                    <p style='text-align:right'>1.496 3pg_c + 3.7478 accoa_c + 59.81 atp_c + 0.361 e4p_c + 0.0709 f6p_c + 0.129 g3p_c + 0.205 g6p_c + 0.2557 gln__L_c + 4.9414 glu__L_c + 59.81 h2o_c + 3.547 nad_c + 13.0279 nadph_c + 1.7867 oaa_c...</p>\n",
       "                    <p style='text-align:right'>1.496 3-Phospho-D-glycerate + 3.7478 Acetyl-CoA + 59.81 ATP C10H12N5O13P3 + 0.361 D-Erythrose 4-phosphate + 0.0709 D-Fructose 6-phosphate + 0.129 Glyceraldehyde 3-phosphate + 0.205 D-Glucose...</p>\n",
       "                </td>\n",
       "            </tr><tr>\n",
       "                <td><strong>GPR</strong></td><td></td>\n",
       "            </tr><tr>\n",
       "                <td><strong>Lower bound</strong></td><td>0.0</td>\n",
       "            </tr><tr>\n",
       "                <td><strong>Upper bound</strong></td><td>1000.0</td>\n",
       "            </tr>\n",
       "        </table>\n",
       "        "
      ],
      "text/plain": [
       "<Reaction BIOMASS_Ecoli_core_w_GAM at 0x30b840cb0>"
      ]
     },
     "execution_count": 6,
     "metadata": {},
     "output_type": "execute_result"
    }
   ],
   "source": [
    "model.reactions.get_by_id(\"BIOMASS_Ecoli_core_w_GAM\")"
   ]
  },
  {
   "cell_type": "markdown",
   "id": "92ca8d83-7b01-4ce0-a7a4-2ff0aec36ff3",
   "metadata": {},
   "source": [
    "The first reaction is an exchange reaction, which moves metabolites but is not catalyzed by an enzyme, hence no genes to link.\n",
    "The second is a biomass reaction, which is a conceptual reaction representing the growth rate of the organism, again no gene to link since it is an artificial representation.\n",
    "In both cases the reaction is not catalyzed by an enzyme, thus there is no associated GPR. We cannot assign a maximal activity to either of these because gene expression data is mapped to reactions using GPR."
   ]
  },
  {
   "cell_type": "markdown",
   "id": "fe384237",
   "metadata": {},
   "source": [
    "### Exercise 2"
   ]
  },
  {
   "cell_type": "code",
   "execution_count": 7,
   "id": "e4042cfb-9a3e-4a57-9d8e-e027e87c4382",
   "metadata": {},
   "outputs": [
    {
     "name": "stdout",
     "output_type": "stream",
     "text": [
      "PFK 0.0 12.12\n",
      "PFL 0.0 1.0\n",
      "PGI -13.12 13.12\n",
      "PGK -23.13 23.13\n",
      "PGL 0.0 8.12\n",
      "ACALD -1.16 1.16\n",
      "AKGt2r -3.1 3.1\n",
      "PGM -20.01 20.01\n",
      "PIt2r -6.03 6.03\n",
      "ALCD2x -9.01 9.01\n",
      "ACALDt -2.29 2.29\n",
      "ACKr -1.19 1.19\n",
      "PPC 0.0 2.56\n",
      "ACONTa -25.35 25.35\n",
      "ACONTb -25.35 25.35\n",
      "ATPM 8.39 1000.0\n",
      "PPCK 0.0 25.23\n",
      "ACt2r -3.23 3.23\n",
      "PPS 0.0 2.5\n",
      "ADK1 -30.57 30.57\n",
      "AKGDH 0.0 24.35\n",
      "ATPS4r -60.5 60.5\n",
      "PTAr -4.47 4.47\n",
      "PYK 0.0 26.78\n",
      "BIOMASS_Ecoli_core_w_GAM 0.0 1000.0\n",
      "PYRt2 -1.26 1.26\n",
      "CO2t -30.45 30.45\n",
      "RPE -5.67 5.67\n",
      "CS 0.0 20.56\n",
      "RPI -5.56 5.56\n",
      "SUCCt2_2 0.0 2.36\n",
      "CYTBD 0.0 40.56\n",
      "D_LACt2 -4.56 4.56\n",
      "ENO -28.78 28.78\n",
      "SUCCt3 0.0 6.67\n",
      "ETOHt2r -2.34 2.34\n",
      "SUCDi 0.0 24.34\n",
      "SUCOAS -20.6 20.6\n",
      "TALA -4.45 4.45\n",
      "THD2 0.0 4.5\n",
      "TKT1 -3.34 3.34\n",
      "TKT2 -3.34 3.34\n",
      "TPI -45.56 45.56\n",
      "EX_ac_e 0.0 1000.0\n",
      "EX_acald_e 0.0 1000.0\n",
      "EX_akg_e 0.0 1000.0\n",
      "EX_co2_e -1000.0 1000.0\n",
      "EX_etoh_e 0.0 1000.0\n",
      "EX_for_e 0.0 1000.0\n",
      "EX_fru_e 0.0 1000.0\n",
      "EX_fum_e 0.0 1000.0\n",
      "EX_glc__D_e -1000.0 1000.0\n",
      "EX_gln__L_e 0.0 1000.0\n",
      "EX_glu__L_e 0.0 1000.0\n",
      "EX_h_e -1000.0 1000.0\n",
      "EX_h2o_e -1000.0 1000.0\n",
      "EX_lac__D_e 0.0 1000.0\n",
      "EX_mal__L_e 0.0 1000.0\n",
      "EX_nh4_e -1000.0 1000.0\n",
      "EX_o2_e -1000.0 1000.0\n",
      "EX_pi_e -1000.0 1000.0\n",
      "EX_pyr_e 0.0 1000.0\n",
      "EX_succ_e 0.0 1000.0\n",
      "FBA -24.45 24.45\n",
      "FBP 0.0 2.35\n",
      "FORt2 0.0 1.28\n",
      "FORt -1000.0 2.34\n",
      "FRD7 0.0 20.07\n",
      "FRUpts2 0.0 10.08\n",
      "FUM -24.35 24.35\n",
      "FUMt2_2 0.0 2.45\n",
      "G6PDH2r -5.68 5.68\n",
      "GAPD -26.13 26.13\n",
      "GLCpts 0.0 16.34\n",
      "GLNS 0.0 3.45\n",
      "GLNabc 0.0 0.25\n",
      "GLUDy -7.35 7.35\n",
      "GLUN 0.0 6.25\n",
      "GLUSy 0.0 7.35\n",
      "GLUt2r -4.12 4.12\n",
      "GND 0.0 6.72\n",
      "H2Ot -20.06 20.06\n",
      "ICDHyr -15.06 15.06\n",
      "ICL 0.0 14.07\n",
      "LDH_D -2.07 2.07\n",
      "MALS 0.0 9.12\n",
      "MALt2_2 0.0 8.87\n",
      "MDH -4.26 4.26\n",
      "ME1 0.0 3.24\n",
      "ME2 0.0 3.34\n",
      "NADH16 0.0 20.26\n",
      "NADTRHD 0.0 1.26\n",
      "NH4t -3.45 3.45\n",
      "O2t -40.67 40.67\n",
      "PDH 0.0 32.32\n"
     ]
    }
   ],
   "source": [
    "for reaction in model.reactions:\n",
    "    if reaction.id in activities:\n",
    "        value = activities[reaction.id]\n",
    "        #setting the upper and lower flux for reversible ones\n",
    "        if reaction.reversibility:\n",
    "            reaction.lower_bound = -value\n",
    "            reaction.upper_bound = value\n",
    "        else:\n",
    "            #only the upper for non reverrsible ones\n",
    "            reaction.upper_bound = value\n",
    "    #we use the high absolute default bounds for glucose\n",
    "    if reaction.id == 'EX_glc__D_e':\n",
    "        reaction.lower_bound = -1000.0\n",
    "        reaction.upper_bound = 1000.0\n",
    "        #we do nothing for ATPM\n",
    "    elif reaction.id == 'ATPM':\n",
    "        pass\n",
    "\n",
    "for reaction in model.reactions:\n",
    "    print(reaction.id, reaction.lower_bound, reaction.upper_bound)"
   ]
  },
  {
   "cell_type": "markdown",
   "id": "7f4a4415-098d-49a6-9e8e-520ea708a911",
   "metadata": {},
   "source": [
    "### Exercise 3"
   ]
  },
  {
   "metadata": {},
   "cell_type": "markdown",
   "source": "a) FVA for all reactions (how much up or down does flux allow to go while rest of reactions stays working)",
   "id": "c14d5d4ca6a756a4"
  },
  {
   "metadata": {
    "ExecuteTime": {
     "end_time": "2025-09-12T19:03:47.918600Z",
     "start_time": "2025-09-12T19:03:38.339409Z"
    }
   },
   "cell_type": "code",
   "source": [
    "from cobra.flux_analysis import flux_variability_analysis as FVA\n",
    "\n",
    "#FVA\n",
    "fva_df = FVA(model, model.reactions, 0.0, False).reset_index().rename(columns={\"index\":\"rxn_id\"})\n",
    "print(f\"FVA reactions: {len(fva_df)}\")\n",
    "fva_df.to_csv(\"ex3_fva_all_reactions.csv\", index=False)\n",
    "fva_df\n"
   ],
   "id": "f75f349d8c34b902",
   "outputs": [
    {
     "name": "stdout",
     "output_type": "stream",
     "text": [
      "FVA reactions: 95\n"
     ]
    },
    {
     "data": {
      "text/plain": [
       "     rxn_id    minimum    maximum\n",
       "0       PFK   0.334677  11.153556\n",
       "1       PFL   0.000000   1.000000\n",
       "2       PGI  -0.085323   9.020351\n",
       "3       PGK -17.596002  -0.879355\n",
       "4       PGL   0.000000   4.522388\n",
       "..      ...        ...        ...\n",
       "90   NADH16   1.831111  20.260000\n",
       "91  NADTRHD   0.000000   1.260000\n",
       "92     NH4t   0.000000   3.450000\n",
       "93      O2t   0.500000  12.256000\n",
       "94      PDH   0.000000  10.931107\n",
       "\n",
       "[95 rows x 3 columns]"
      ],
      "text/html": [
       "<div>\n",
       "<style scoped>\n",
       "    .dataframe tbody tr th:only-of-type {\n",
       "        vertical-align: middle;\n",
       "    }\n",
       "\n",
       "    .dataframe tbody tr th {\n",
       "        vertical-align: top;\n",
       "    }\n",
       "\n",
       "    .dataframe thead th {\n",
       "        text-align: right;\n",
       "    }\n",
       "</style>\n",
       "<table border=\"1\" class=\"dataframe\">\n",
       "  <thead>\n",
       "    <tr style=\"text-align: right;\">\n",
       "      <th></th>\n",
       "      <th>rxn_id</th>\n",
       "      <th>minimum</th>\n",
       "      <th>maximum</th>\n",
       "    </tr>\n",
       "  </thead>\n",
       "  <tbody>\n",
       "    <tr>\n",
       "      <th>0</th>\n",
       "      <td>PFK</td>\n",
       "      <td>0.334677</td>\n",
       "      <td>11.153556</td>\n",
       "    </tr>\n",
       "    <tr>\n",
       "      <th>1</th>\n",
       "      <td>PFL</td>\n",
       "      <td>0.000000</td>\n",
       "      <td>1.000000</td>\n",
       "    </tr>\n",
       "    <tr>\n",
       "      <th>2</th>\n",
       "      <td>PGI</td>\n",
       "      <td>-0.085323</td>\n",
       "      <td>9.020351</td>\n",
       "    </tr>\n",
       "    <tr>\n",
       "      <th>3</th>\n",
       "      <td>PGK</td>\n",
       "      <td>-17.596002</td>\n",
       "      <td>-0.879355</td>\n",
       "    </tr>\n",
       "    <tr>\n",
       "      <th>4</th>\n",
       "      <td>PGL</td>\n",
       "      <td>0.000000</td>\n",
       "      <td>4.522388</td>\n",
       "    </tr>\n",
       "    <tr>\n",
       "      <th>...</th>\n",
       "      <td>...</td>\n",
       "      <td>...</td>\n",
       "      <td>...</td>\n",
       "    </tr>\n",
       "    <tr>\n",
       "      <th>90</th>\n",
       "      <td>NADH16</td>\n",
       "      <td>1.831111</td>\n",
       "      <td>20.260000</td>\n",
       "    </tr>\n",
       "    <tr>\n",
       "      <th>91</th>\n",
       "      <td>NADTRHD</td>\n",
       "      <td>0.000000</td>\n",
       "      <td>1.260000</td>\n",
       "    </tr>\n",
       "    <tr>\n",
       "      <th>92</th>\n",
       "      <td>NH4t</td>\n",
       "      <td>0.000000</td>\n",
       "      <td>3.450000</td>\n",
       "    </tr>\n",
       "    <tr>\n",
       "      <th>93</th>\n",
       "      <td>O2t</td>\n",
       "      <td>0.500000</td>\n",
       "      <td>12.256000</td>\n",
       "    </tr>\n",
       "    <tr>\n",
       "      <th>94</th>\n",
       "      <td>PDH</td>\n",
       "      <td>0.000000</td>\n",
       "      <td>10.931107</td>\n",
       "    </tr>\n",
       "  </tbody>\n",
       "</table>\n",
       "<p>95 rows × 3 columns</p>\n",
       "</div>"
      ]
     },
     "execution_count": 149,
     "metadata": {},
     "output_type": "execute_result"
    }
   ],
   "execution_count": 149
  },
  {
   "metadata": {},
   "cell_type": "markdown",
   "source": "b) reactions that have less flux than they could potentially handle ",
   "id": "fc3b6aff3f7d54ef"
  },
  {
   "metadata": {
    "ExecuteTime": {
     "end_time": "2025-09-12T19:14:53.896605Z",
     "start_time": "2025-09-12T19:14:53.867722Z"
    }
   },
   "cell_type": "code",
   "source": [
    "#for small values\n",
    "tol = 1e-9\n",
    "\n",
    "\n",
    "\n",
    "#expression table\n",
    "expr = pd.read_csv(\"e_coli_core_expression.csv\")\n",
    "expr.columns = [c.strip().lower() for c in expr.columns]\n",
    "id_col  = [c for c in expr.columns if c in (\"rxn_id\",\"reaction\",\"reaction_id\",\"# reaction id\",\"id\")][0]\n",
    "val_col = [c for c in expr.columns if (\"activity\" in c) or c in (\"value\",\"max\",\"max_activity\",\"maximal_activity\")][0]\n",
    "expr = expr[[id_col, val_col]].rename(columns={id_col: \"rxn_id\", val_col: \"max_activity\"})\n",
    "expr[\"rxn_id\"] = expr[\"rxn_id\"].astype(str).str.strip()\n",
    "expr = expr.dropna(subset=[\"rxn_id\"])\n",
    "expr_set = set(expr[\"rxn_id\"]) & {r.id for r in model.reactions}\n",
    "\n",
    "\n",
    "\n",
    "# we aint using FORt\n",
    "exclude = {\"FORt\"} & {r.id for r in model.reactions}\n",
    "#upper bounds\n",
    "ub_map = {r.id: float(r.upper_bound) for r in model.reactions}\n",
    "\n",
    "rows = []\n",
    "for _, row in fva_df.iterrows():\n",
    "    rid = row[\"rxn_id\"]\n",
    "    if rid in exclude or rid not in expr_set:\n",
    "        continue\n",
    "    fmax = float(row[\"maximum\"])\n",
    "    forward_max = max(0.0, fmax)    \n",
    "    ub = ub_map[rid]\n",
    "    if forward_max > tol and forward_max < ub - tol:\n",
    "        rows.append([rid, float(row[\"minimum\"]), float(row[\"maximum\"]), ub])\n",
    "\n",
    "\n",
    "partb_df = pd.DataFrame(rows, columns=[\"rxn_id\",\"fva_min\",\"fva_max\",\"expr_ub\"]).sort_values(\"rxn_id\")\n",
    "partb_df.to_csv(\"ex3_partb_expr_limited_forward_range.csv\", index=False)\n",
    "print(f\"3b count: {len(partb_df)}\")\n",
    "print(partb_df.to_string(index=False))"
   ],
   "id": "6117d8e509efcde8",
   "outputs": [
    {
     "name": "stdout",
     "output_type": "stream",
     "text": [
      "3b count: 36\n",
      " rxn_id       fva_min   fva_max  expr_ub\n",
      " ACONTa -2.782184e-17  5.775556    25.35\n",
      " ACONTb  0.000000e+00  5.775556    25.35\n",
      "   ADK1  0.000000e+00  2.500000    30.57\n",
      "  AKGDH  0.000000e+00  4.126039    24.35\n",
      " ATPS4r  4.266667e-01 27.641000    60.50\n",
      "   CO2t -1.367477e+01  1.615333    30.45\n",
      "     CS  0.000000e+00  5.775556    20.56\n",
      "  CYTBD  1.000000e+00 24.512000    40.56\n",
      "    ENO  8.793548e-01 17.038932    28.78\n",
      "    FBA  3.346774e-01  8.803556    24.45\n",
      "    FUM -2.560000e+00  4.252000    24.35\n",
      "G6PDH2r  0.000000e+00  4.522388     5.68\n",
      "   GAPD  8.793548e-01 17.596002    26.13\n",
      " GLCpts  4.794286e-01  9.493300    16.34\n",
      "  GLUDy -3.450000e+00  3.450000     7.35\n",
      "   GLUN  0.000000e+00  3.450000     6.25\n",
      "  GLUSy  0.000000e+00  3.450000     7.35\n",
      "    GND  0.000000e+00  4.522388     6.72\n",
      " ICDHyr  3.987053e-16  5.202131    15.06\n",
      "    ICL  0.000000e+00  4.252000    14.07\n",
      "   MALS  1.196116e-15  4.252000     9.12\n",
      "    O2t  5.000000e-01 12.256000    40.67\n",
      "    PDH  0.000000e+00 10.931107    32.32\n",
      "    PFK  3.346774e-01 11.153556    12.12\n",
      "    PGI -8.532258e-02  9.020351    13.12\n",
      "    PGL  0.000000e+00  4.522388     8.12\n",
      "  PIt2r  4.338107e-16  1.783077     6.03\n",
      "   PPCK  0.000000e+00  4.690000    25.23\n",
      "   PTAr  2.574367e-16  1.190000     4.47\n",
      "    PYK  0.000000e+00  9.232000    26.78\n",
      "    RPE -3.462018e-01  2.688571     5.67\n",
      "  SUCDi  0.000000e+00 24.322000    24.34\n",
      "   TALA -8.616515e-02  1.426237     4.45\n",
      "   TKT1 -8.616515e-02  1.426237     3.34\n",
      "   TKT2 -2.600367e-01  1.262334     3.34\n",
      "    TPI  3.346774e-01  8.803556    45.56\n"
     ]
    }
   ],
   "execution_count": 152
  },
  {
   "metadata": {},
   "cell_type": "markdown",
   "source": "There are 36 of these restricted flux reactions. They cannot reach this because of some other constraints like > substrate uptake limits, ATP balance, competition at pathway branch points",
   "id": "f2b7b1ce17498f60"
  },
  {
   "metadata": {},
   "cell_type": "markdown",
   "source": "c) reactions which have a positive minimum FVA (so always running(",
   "id": "cb4d75df4e05a82b"
  },
  {
   "cell_type": "code",
   "id": "0f8357ba-17c8-4d24-83c5-3771f5a15099",
   "metadata": {
    "ExecuteTime": {
     "end_time": "2025-09-12T19:03:52.429683Z",
     "start_time": "2025-09-12T19:03:52.412429Z"
    }
   },
   "source": [
    "#for small values\n",
    "tol = 1e-9\n",
    "\n",
    "#if it has a positive minimum \n",
    "partc_df = (fva_df.loc[fva_df[\"minimum\"] > tol, [\"rxn_id\",\"minimum\",\"maximum\"]]\n",
    "            .rename(columns={\"minimum\":\"fva_min\",\"maximum\":\"fva_max\"})\n",
    "            .sort_values(\"rxn_id\"))\n",
    "print(\"3c count:\", len(partc_df))\n",
    "\n",
    "partc_df.to_csv(\"ex3_partc_positive_minimum_flux.csv\", index=False)\n",
    "partc_df"
   ],
   "outputs": [
    {
     "name": "stdout",
     "output_type": "stream",
     "text": [
      "3c count: 12\n"
     ]
    },
    {
     "data": {
      "text/plain": [
       "      rxn_id   fva_min    fva_max\n",
       "15      ATPM  8.390000  39.983750\n",
       "21    ATPS4r  0.426667  27.641000\n",
       "31     CYTBD  1.000000  24.512000\n",
       "33       ENO  0.879355  17.038932\n",
       "55  EX_h2o_e  0.538000  18.590873\n",
       "63       FBA  0.334677   8.803556\n",
       "72      GAPD  0.879355  17.596002\n",
       "73    GLCpts  0.479429   9.493300\n",
       "90    NADH16  1.831111  20.260000\n",
       "93       O2t  0.500000  12.256000\n",
       "0        PFK  0.334677  11.153556\n",
       "42       TPI  0.334677   8.803556"
      ],
      "text/html": [
       "<div>\n",
       "<style scoped>\n",
       "    .dataframe tbody tr th:only-of-type {\n",
       "        vertical-align: middle;\n",
       "    }\n",
       "\n",
       "    .dataframe tbody tr th {\n",
       "        vertical-align: top;\n",
       "    }\n",
       "\n",
       "    .dataframe thead th {\n",
       "        text-align: right;\n",
       "    }\n",
       "</style>\n",
       "<table border=\"1\" class=\"dataframe\">\n",
       "  <thead>\n",
       "    <tr style=\"text-align: right;\">\n",
       "      <th></th>\n",
       "      <th>rxn_id</th>\n",
       "      <th>fva_min</th>\n",
       "      <th>fva_max</th>\n",
       "    </tr>\n",
       "  </thead>\n",
       "  <tbody>\n",
       "    <tr>\n",
       "      <th>15</th>\n",
       "      <td>ATPM</td>\n",
       "      <td>8.390000</td>\n",
       "      <td>39.983750</td>\n",
       "    </tr>\n",
       "    <tr>\n",
       "      <th>21</th>\n",
       "      <td>ATPS4r</td>\n",
       "      <td>0.426667</td>\n",
       "      <td>27.641000</td>\n",
       "    </tr>\n",
       "    <tr>\n",
       "      <th>31</th>\n",
       "      <td>CYTBD</td>\n",
       "      <td>1.000000</td>\n",
       "      <td>24.512000</td>\n",
       "    </tr>\n",
       "    <tr>\n",
       "      <th>33</th>\n",
       "      <td>ENO</td>\n",
       "      <td>0.879355</td>\n",
       "      <td>17.038932</td>\n",
       "    </tr>\n",
       "    <tr>\n",
       "      <th>55</th>\n",
       "      <td>EX_h2o_e</td>\n",
       "      <td>0.538000</td>\n",
       "      <td>18.590873</td>\n",
       "    </tr>\n",
       "    <tr>\n",
       "      <th>63</th>\n",
       "      <td>FBA</td>\n",
       "      <td>0.334677</td>\n",
       "      <td>8.803556</td>\n",
       "    </tr>\n",
       "    <tr>\n",
       "      <th>72</th>\n",
       "      <td>GAPD</td>\n",
       "      <td>0.879355</td>\n",
       "      <td>17.596002</td>\n",
       "    </tr>\n",
       "    <tr>\n",
       "      <th>73</th>\n",
       "      <td>GLCpts</td>\n",
       "      <td>0.479429</td>\n",
       "      <td>9.493300</td>\n",
       "    </tr>\n",
       "    <tr>\n",
       "      <th>90</th>\n",
       "      <td>NADH16</td>\n",
       "      <td>1.831111</td>\n",
       "      <td>20.260000</td>\n",
       "    </tr>\n",
       "    <tr>\n",
       "      <th>93</th>\n",
       "      <td>O2t</td>\n",
       "      <td>0.500000</td>\n",
       "      <td>12.256000</td>\n",
       "    </tr>\n",
       "    <tr>\n",
       "      <th>0</th>\n",
       "      <td>PFK</td>\n",
       "      <td>0.334677</td>\n",
       "      <td>11.153556</td>\n",
       "    </tr>\n",
       "    <tr>\n",
       "      <th>42</th>\n",
       "      <td>TPI</td>\n",
       "      <td>0.334677</td>\n",
       "      <td>8.803556</td>\n",
       "    </tr>\n",
       "  </tbody>\n",
       "</table>\n",
       "</div>"
      ]
     },
     "execution_count": 150,
     "metadata": {},
     "output_type": "execute_result"
    }
   ],
   "execution_count": 150
  },
  {
   "metadata": {},
   "cell_type": "markdown",
   "source": "so there are a total of 12 reactions with a positive minimal flux. This is because they do things like transporting important things, respiratory or energy actions, ATP, and so on which are crucial for the cell no matter the state ",
   "id": "227a3794612ebd99"
  },
  {
   "cell_type": "markdown",
   "id": "e6a4b5bc-ee4f-4159-a2c0-42a4a4b61421",
   "metadata": {},
   "source": [
    "### Exercise 4"
   ]
  },
  {
   "attachments": {},
   "cell_type": "markdown",
   "id": "5c88a682-89e8-4581-b156-957a8d744ddd",
   "metadata": {},
   "source": [
    "**4.a)** Carry out an FBA optimization of biomass and report the maximal biomass production rate in the presence of the implemented constraints."
   ]
  },
  {
   "cell_type": "code",
   "execution_count": 8,
   "id": "08580269-9e39-4ab8-a0da-c3ed7f3e2f79",
   "metadata": {},
   "outputs": [
    {
     "name": "stdout",
     "output_type": "stream",
     "text": [
      "Maximal biomass production rate:\n",
      "0.4847030979705454\n"
     ]
    }
   ],
   "source": [
    "#optimize the model for biomass production\n",
    "solution = model.optimize()\n",
    "\n",
    "#print the maximal biomass production rate\n",
    "print(\"Maximal biomass production rate:\")\n",
    "print(solution.objective_value)"
   ]
  },
  {
   "cell_type": "markdown",
   "id": "9724a468-a22d-440e-a506-ce448565c51a",
   "metadata": {},
   "source": [
    "**4.b)** Determine the “bottleneck(s)” – i. e. those reaction(s) whose flux reaches its maximum. "
   ]
  },
  {
   "cell_type": "code",
   "execution_count": 10,
   "id": "59f60f78-3a79-4f0b-bf63-d7390fe1d503",
   "metadata": {},
   "outputs": [
    {
     "name": "stdout",
     "output_type": "stream",
     "text": [
      "Identifying bottlenecks (reactions at maximum flux):\n",
      "- PFL is a bottleneck. Flux: 1.0000, Bound: 1.0000\n",
      "- THD2 is a bottleneck. Flux: 4.5000, Bound: 4.5000\n",
      "- NADH16 is a bottleneck. Flux: 20.2600, Bound: 20.2600\n"
     ]
    }
   ],
   "source": [
    "print(\"Identifying bottlenecks (reactions at maximum flux):\")\n",
    "#a small tolerance is used for comparing floating point numbers\n",
    "tolerance = 1e-6 \n",
    "\n",
    "for reaction in model.reactions:\n",
    "    #check if the reaction has a flux value in the solution\n",
    "    if reaction.id in solution.fluxes:\n",
    "        flux = solution.fluxes[reaction.id]\n",
    "        upper_bound = reaction.upper_bound\n",
    "        \n",
    "        #check if the flux is very close to the upper bound\n",
    "        if flux > 0 and abs(flux - upper_bound) < tolerance:\n",
    "            print(f\"- {reaction.id} is a bottleneck. Flux: {flux:.4f}, Bound: {upper_bound:.4f}\")"
   ]
  },
  {
   "cell_type": "markdown",
   "id": "3aaa2a2d-f828-4740-9075-c1a2e3f0d48b",
   "metadata": {},
   "source": [
    "**4.c)** The model does not use (have non-zero flux for) all reactions in the model constrained with maximal reaction activities. Pick a reaction with maximal reaction activity constraints and zero flux in the optimal solution, and explain from the network context why it carries not carry flux. (Hint: Use the online demo again.) "
   ]
  },
  {
   "cell_type": "code",
   "execution_count": 13,
   "id": "17b08533-4807-40d9-acb7-22c2817de26a",
   "metadata": {},
   "outputs": [
    {
     "name": "stdout",
     "output_type": "stream",
     "text": [
      "Finding a constrained but unused reaction:\n",
      "Candidate: AKGt2r has zero flux.\n"
     ]
    }
   ],
   "source": [
    "print(\"Finding a constrained but unused reaction:\")\n",
    "for reaction_id, max_activity in activities.items():\n",
    "    #check if the reaction exists in the model and the solution\n",
    "    if reaction_id in solution.fluxes:\n",
    "        #check if the flux is essentially zero\n",
    "        if abs(solution.fluxes[reaction_id]) < tolerance:\n",
    "            print(f\"Candidate: {reaction_id} has zero flux.\")\n",
    "            #we only need to find one\n",
    "            break"
   ]
  },
  {
   "cell_type": "markdown",
   "id": "f7dcc60b-137f-4fff-b5a1-83cc1af23850",
   "metadata": {},
   "source": [
    "The analysis identified the reaction `AKGt2r` as a reaction that has a maximal activity constraint from the expression data but carries zero flux in the biomass-optimized solution. The reaction is defined as **akg_e + h_e ⇌ akg_c + h_c**. Judging by the network on the online demo, either `akg_e` or `h_e` must be missing for the reaction to take place, that could be if we only feed glucose to the cell for example."
   ]
  }
 ],
 "metadata": {
  "kernelspec": {
   "display_name": "Python 3 (ipykernel)",
   "language": "python",
   "name": "python3"
  },
  "language_info": {
   "codemirror_mode": {
    "name": "ipython",
    "version": 3
   },
   "file_extension": ".py",
   "mimetype": "text/x-python",
   "name": "python",
   "nbconvert_exporter": "python",
   "pygments_lexer": "ipython3",
   "version": "3.12.1"
  }
 },
 "nbformat": 4,
 "nbformat_minor": 5
}
