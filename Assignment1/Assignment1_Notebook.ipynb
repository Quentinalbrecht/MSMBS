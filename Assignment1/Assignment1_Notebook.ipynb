{
 "cells": [
  {
   "cell_type": "code",
   "execution_count": 57,
   "id": "6a9518c8-9a27-4a7e-82a9-cebb878efc8a",
   "metadata": {
    "scrolled": true
   },
   "outputs": [],
   "source": [
    "import cobra\n",
    "from cobra import Model, Reaction, Metabolite\n",
    "model = cobra.io.load_json_model('e_coli_core.json')\n",
    "model\n",
    "\n",
    "import csv\n",
    "activities = {}\n",
    "with open('e_coli_core_expression.csv', mode='r', newline='') as file:\n",
    "    reader = csv.reader(file)\n",
    "    next(reader)\n",
    "    for row in reader:\n",
    "        activities[row[0].strip()] = float(row[1].strip())"
   ]
  },
  {
   "cell_type": "markdown",
   "id": "eb7b3bb5-cb68-42af-8a0e-8323102dec99",
   "metadata": {},
   "source": [
    "1/a: Upon inspecting the Escher map, we can see that contrary to flux, maximum activity is not equal along a linear path. This makes sense since the maximum activity is dependent on the individual capacities of each enzyme. These are inherent characteristics of the enzymes and are not constrained by mass balance."
   ]
  },
  {
   "cell_type": "markdown",
   "id": "ec558457-0302-490f-b4bf-f93f72bc910c",
   "metadata": {},
   "source": [
    "1/b: Let's look at 2 such reactions."
   ]
  },
  {
   "cell_type": "code",
   "execution_count": 60,
   "id": "b87dd334-c2af-44d7-ba61-129befe80182",
   "metadata": {},
   "outputs": [
    {
     "data": {
      "text/html": [
       "\n",
       "        <table>\n",
       "            <tr>\n",
       "                <td><strong>Reaction identifier</strong></td><td>EX_glc__D_e</td>\n",
       "            </tr><tr>\n",
       "                <td><strong>Name</strong></td><td>D-Glucose exchange</td>\n",
       "            </tr><tr>\n",
       "                <td><strong>Memory address</strong></td>\n",
       "                <td>0x17f567320</td>\n",
       "            </tr><tr>\n",
       "                <td><strong>Stoichiometry</strong></td>\n",
       "                <td>\n",
       "                    <p style='text-align:right'>glc__D_e <=></p>\n",
       "                    <p style='text-align:right'>D-Glucose <=></p>\n",
       "                </td>\n",
       "            </tr><tr>\n",
       "                <td><strong>GPR</strong></td><td></td>\n",
       "            </tr><tr>\n",
       "                <td><strong>Lower bound</strong></td><td>-10.0</td>\n",
       "            </tr><tr>\n",
       "                <td><strong>Upper bound</strong></td><td>1000.0</td>\n",
       "            </tr>\n",
       "        </table>\n",
       "        "
      ],
      "text/plain": [
       "<Reaction EX_glc__D_e at 0x17f567320>"
      ]
     },
     "execution_count": 60,
     "metadata": {},
     "output_type": "execute_result"
    }
   ],
   "source": [
    "model.reactions.get_by_id(\"EX_glc__D_e\")\n"
   ]
  },
  {
   "cell_type": "code",
   "execution_count": 61,
   "id": "c814c824-e3a0-4095-b025-0b9e4a67f044",
   "metadata": {},
   "outputs": [
    {
     "data": {
      "text/html": [
       "\n",
       "        <table>\n",
       "            <tr>\n",
       "                <td><strong>Reaction identifier</strong></td><td>BIOMASS_Ecoli_core_w_GAM</td>\n",
       "            </tr><tr>\n",
       "                <td><strong>Name</strong></td><td>Biomass Objective Function with GAM</td>\n",
       "            </tr><tr>\n",
       "                <td><strong>Memory address</strong></td>\n",
       "                <td>0x17d7aa5d0</td>\n",
       "            </tr><tr>\n",
       "                <td><strong>Stoichiometry</strong></td>\n",
       "                <td>\n",
       "                    <p style='text-align:right'>1.496 3pg_c + 3.7478 accoa_c + 59.81 atp_c + 0.361 e4p_c + 0.0709 f6p_c + 0.129 g3p_c + 0.205 g6p_c + 0.2557 gln__L_c + 4.9414 glu__L_c + 59.81 h2o_c + 3.547 nad_c + 13.0279 nadph_c + 1.7867 oaa_c...</p>\n",
       "                    <p style='text-align:right'>1.496 3-Phospho-D-glycerate + 3.7478 Acetyl-CoA + 59.81 ATP C10H12N5O13P3 + 0.361 D-Erythrose 4-phosphate + 0.0709 D-Fructose 6-phosphate + 0.129 Glyceraldehyde 3-phosphate + 0.205 D-Glucose...</p>\n",
       "                </td>\n",
       "            </tr><tr>\n",
       "                <td><strong>GPR</strong></td><td></td>\n",
       "            </tr><tr>\n",
       "                <td><strong>Lower bound</strong></td><td>0.0</td>\n",
       "            </tr><tr>\n",
       "                <td><strong>Upper bound</strong></td><td>1000.0</td>\n",
       "            </tr>\n",
       "        </table>\n",
       "        "
      ],
      "text/plain": [
       "<Reaction BIOMASS_Ecoli_core_w_GAM at 0x17d7aa5d0>"
      ]
     },
     "execution_count": 61,
     "metadata": {},
     "output_type": "execute_result"
    }
   ],
   "source": [
    "model.reactions.get_by_id(\"BIOMASS_Ecoli_core_w_GAM\")"
   ]
  },
  {
   "cell_type": "markdown",
   "id": "92ca8d83-7b01-4ce0-a7a4-2ff0aec36ff3",
   "metadata": {},
   "source": [
    "The first reaction is an exchange reaction, which moves metabolites but is not catalyzed by an enzyme, hence no genes to link.\n",
    "The second is a biomass reaction, which is a conceptual reaction representing the growth rate of the organism, again no gene to link since it is an artificial representation.\n",
    "In both cases the reaction is not catalyzed by an enzyme, thus there is no associated GPR. We cannot assign a maximal activity to either of these because gene expression data is mapped to reactions using GPR."
   ]
  },
  {
   "cell_type": "markdown",
   "id": "fe384237",
   "metadata": {},
   "source": [
    "2."
   ]
  },
  {
   "cell_type": "code",
   "execution_count": 64,
   "id": "e4042cfb-9a3e-4a57-9d8e-e027e87c4382",
   "metadata": {},
   "outputs": [
    {
     "name": "stdout",
     "output_type": "stream",
     "text": [
      "PFK 0.0 12.12\n",
      "PFL 0.0 1.0\n",
      "PGI -13.12 13.12\n",
      "PGK -23.13 23.13\n",
      "PGL 0.0 8.12\n",
      "ACALD -1.16 1.16\n",
      "AKGt2r -3.1 3.1\n",
      "PGM -20.01 20.01\n",
      "PIt2r -6.03 6.03\n",
      "ALCD2x -9.01 9.01\n",
      "ACALDt -2.29 2.29\n",
      "ACKr -1.19 1.19\n",
      "PPC 0.0 2.56\n",
      "ACONTa -25.35 25.35\n",
      "ACONTb -25.35 25.35\n",
      "ATPM 8.39 1000.0\n",
      "PPCK 0.0 25.23\n",
      "ACt2r -3.23 3.23\n",
      "PPS 0.0 2.5\n",
      "ADK1 -30.57 30.57\n",
      "AKGDH 0.0 24.35\n",
      "ATPS4r -60.5 60.5\n",
      "PTAr -4.47 4.47\n",
      "PYK 0.0 26.78\n",
      "BIOMASS_Ecoli_core_w_GAM 0.0 1000.0\n",
      "PYRt2 -1.26 1.26\n",
      "CO2t -30.45 30.45\n",
      "RPE -5.67 5.67\n",
      "CS 0.0 20.56\n",
      "RPI -5.56 5.56\n",
      "SUCCt2_2 0.0 2.36\n",
      "CYTBD 0.0 40.56\n",
      "D_LACt2 -4.56 4.56\n",
      "ENO -28.78 28.78\n",
      "SUCCt3 0.0 6.67\n",
      "ETOHt2r -2.34 2.34\n",
      "SUCDi 0.0 24.34\n",
      "SUCOAS -20.6 20.6\n",
      "TALA -4.45 4.45\n",
      "THD2 0.0 4.5\n",
      "TKT1 -3.34 3.34\n",
      "TKT2 -3.34 3.34\n",
      "TPI -45.56 45.56\n",
      "EX_ac_e 0.0 1000.0\n",
      "EX_acald_e 0.0 1000.0\n",
      "EX_akg_e 0.0 1000.0\n",
      "EX_co2_e -1000.0 1000.0\n",
      "EX_etoh_e 0.0 1000.0\n",
      "EX_for_e 0.0 1000.0\n",
      "EX_fru_e 0.0 1000.0\n",
      "EX_fum_e 0.0 1000.0\n",
      "EX_glc__D_e -1000.0 1000.0\n",
      "EX_gln__L_e 0.0 1000.0\n",
      "EX_glu__L_e 0.0 1000.0\n",
      "EX_h_e -1000.0 1000.0\n",
      "EX_h2o_e -1000.0 1000.0\n",
      "EX_lac__D_e 0.0 1000.0\n",
      "EX_mal__L_e 0.0 1000.0\n",
      "EX_nh4_e -1000.0 1000.0\n",
      "EX_o2_e -1000.0 1000.0\n",
      "EX_pi_e -1000.0 1000.0\n",
      "EX_pyr_e 0.0 1000.0\n",
      "EX_succ_e 0.0 1000.0\n",
      "FBA -24.45 24.45\n",
      "FBP 0.0 2.35\n",
      "FORt2 0.0 1.28\n",
      "FORt -1000.0 2.34\n",
      "FRD7 0.0 20.07\n",
      "FRUpts2 0.0 10.08\n",
      "FUM -24.35 24.35\n",
      "FUMt2_2 0.0 2.45\n",
      "G6PDH2r -5.68 5.68\n",
      "GAPD -26.13 26.13\n",
      "GLCpts 0.0 16.34\n",
      "GLNS 0.0 3.45\n",
      "GLNabc 0.0 0.25\n",
      "GLUDy -7.35 7.35\n",
      "GLUN 0.0 6.25\n",
      "GLUSy 0.0 7.35\n",
      "GLUt2r -4.12 4.12\n",
      "GND 0.0 6.72\n",
      "H2Ot -20.06 20.06\n",
      "ICDHyr -15.06 15.06\n",
      "ICL 0.0 14.07\n",
      "LDH_D -2.07 2.07\n",
      "MALS 0.0 9.12\n",
      "MALt2_2 0.0 8.87\n",
      "MDH -4.26 4.26\n",
      "ME1 0.0 3.24\n",
      "ME2 0.0 3.34\n",
      "NADH16 0.0 20.26\n",
      "NADTRHD 0.0 1.26\n",
      "NH4t -3.45 3.45\n",
      "O2t -40.67 40.67\n",
      "PDH 0.0 32.32\n"
     ]
    }
   ],
   "source": [
    "for reaction in model.reactions:\n",
    "    if reaction.id in activities:\n",
    "        value = activities[reaction.id]\n",
    "        #setting the upper and lower flux for reversible ones\n",
    "        if reaction.reversibility:\n",
    "            reaction.lower_bound = -value\n",
    "            reaction.upper_bound = value\n",
    "        else:\n",
    "            #only the upper for non reverrsible ones\n",
    "            reaction.upper_bound = value\n",
    "    #we use the high absolute default bounds for glucose\n",
    "    if reaction.id == 'EX_glc__D_e':\n",
    "        reaction.lower_bound = -1000.0\n",
    "        reaction.upper_bound = 1000.0\n",
    "        #we do nothing for ATPM\n",
    "    elif reaction.id == 'ATPM':\n",
    "        pass\n",
    "\n",
    "for reaction in model.reactions:\n",
    "    print(reaction.id, reaction.lower_bound, reaction.upper_bound)"
   ]
  },
  {
   "cell_type": "code",
   "execution_count": null,
   "id": "2609aa9b-2c1b-4f93-b007-5e7e2e3c627e",
   "metadata": {},
   "outputs": [],
   "source": []
  }
 ],
 "metadata": {
  "kernelspec": {
   "display_name": "Python [conda env:Bio-Systems]",
   "language": "python",
   "name": "conda-env-Bio-Systems-py"
  },
  "language_info": {
   "codemirror_mode": {
    "name": "ipython",
    "version": 3
   },
   "file_extension": ".py",
   "mimetype": "text/x-python",
   "name": "python",
   "nbconvert_exporter": "python",
   "pygments_lexer": "ipython3",
   "version": "3.12.11"
  }
 },
 "nbformat": 4,
 "nbformat_minor": 5
}
